{
 "cells": [
  {
   "cell_type": "code",
   "execution_count": 1,
   "id": "c46c9c90",
   "metadata": {},
   "outputs": [
    {
     "name": "stderr",
     "output_type": "stream",
     "text": [
      "/home/yuntian/anaconda3/envs/linux_QNM_env/lib/python3.9/site-packages/scipy/__init__.py:146: UserWarning: A NumPy version >=1.17.3 and <1.25.0 is required for this version of SciPy (detected version 1.26.4\n",
      "  warnings.warn(f\"A NumPy version >={np_minversion} and <{np_maxversion}\"\n"
     ]
    },
    {
     "data": {
      "image/png": "[encoded data removed]",
      "text/plain": [
       "<Figure size 640x480 with 1 Axes>"
      ]
     },
     "metadata": {},
     "output_type": "display_data"
    }
   ],
   "source": [
    "from scipy.interpolate import LinearNDInterpolator\n",
    "import numpy as np\n",
    "import matplotlib.pyplot as plt\n",
    "import qnm\n",
    "import math\n",
    "\n",
    "plt.rcParams[\"xtick.labelsize\"] = 25\n",
    "plt.rcParams[\"ytick.labelsize\"] = 25\n",
    "plt.rcParams[\"xtick.direction\"] = \"in\"\n",
    "plt.rcParams[\"ytick.direction\"] = \"in\"\n",
    "plt.rcParams[\"xtick.major.size\"] = 8\n",
    "plt.rcParams[\"ytick.major.size\"] = 8\n",
    "plt.rcParams[\"xtick.minor.size\"] = 4\n",
    "plt.rcParams[\"ytick.minor.size\"] = 4\n",
    "plt.rcParams[\"xtick.top\"] = True\n",
    "plt.rcParams[\"ytick.right\"] = True\n",
    "plt.rcParams[\"axes.labelpad\"] = 8\n",
    "plt.rcParams[\"figure.constrained_layout.h_pad\"] = 0\n",
    "plt.rcParams[\"text.usetex\"] = True\n",
    "plt.rcParams[\"font.sans-serif\"] = [\"Times New Roman\"]\n",
    "plt.rcParams[\"mathtext.fontset\"] = \"stix\"\n",
    "plt.tick_params(axis=\"both\", which=\"minor\", labelsize=18)"
   ]
  },
  {
   "cell_type": "code",
   "execution_count": 6,
   "id": "95599803",
   "metadata": {},
   "outputs": [],
   "source": [
    "bkj_220r=[[1.0,       0.537583,   -2.990402,  1.503421],\n",
    "     [-1.899567, -2.128633,  6.626680,   -2.903790],\n",
    "     [1.015454,  2.147094,   -4.672847,  1.891731],\n",
    "     [-0.111430, -0.581706,  1.021061,   -0.414517]]\n",
    "\n",
    "ckj_220r=[[1.0,          0.548651,   -3.141145,  1.636377],\n",
    "     [-2.238461,    -2.291933,  7.695570,   -3.458474],\n",
    "     [1.581677,     2.662938,   -6.256090,  2.494264],\n",
    "     [-0.341455,    -0.930069,  1.688288,   -0.612643]]\n",
    "\n",
    "bkj_220i=[[1.0,          -2.721789,     2.472860,      -0.750015],\n",
    "          [-2.533958,    7.181110,      -6.870324,     2.214689],\n",
    "          [2.102750,     -6.317887,     6.206452,      -1.980749],\n",
    "          [-0.568636,    1.857404,      -1.820547,     0.554722]]\n",
    "\n",
    "ckj_220i=[[1.0,          -2.732346,     2.495049,      -0.761581],\n",
    "          [-2.498341,    7.089542,      -6.781334,     2.181880],\n",
    "          [2.056918,     -6.149334,     6.010021,      -1.909275],\n",
    "          [-0.557557,    1.786783,      -1.734461,     0.524997]]\n",
    "\n",
    "# 330\n",
    "bkj_330r=[[1.0,         -0.311963,      -1.457057,      0.825692],\n",
    "          [-1.928277,   -0.026433,      3.139427,       -1.484557],\n",
    "          [1.044039,    0.545708,       -2.188569,      0.940019],\n",
    "          [-0.112303,   -0.226402,      0.482482,       -0.204299]]\n",
    "\n",
    "ckj_330r=[[1.0,         -0.299153,      -1.591595,      0.938987],\n",
    "          [-2.265230,   0.058508,       3.772084,       -1.852247],\n",
    "          [1.624332,    0.533096,       -3.007197,      1.285026],\n",
    "          [-0.357651,   -0.300599,      0.810387,       -0.314715]]\n",
    "\n",
    "bkj_330i=[[1.0,         -2.813977,      2.666759,       -0.850618],\n",
    "          [-2.163575,   6.934304,       -7.425335,      2.640936],\n",
    "          [1.405496,    -5.678573,      6.621826,       -2.345713],\n",
    "          [-0.241561,   1.555843,       -1.890365,      0.637480]]\n",
    "\n",
    "ckj_330i=[[1.0,         -2.820763,      2.680557,       -0.857462],\n",
    "          [-2.130446,   6.825101,       -7.291058,      2.583282],\n",
    "          [1.394144,    -5.533669,      6.393699,       -2.254239],\n",
    "          [-0.261229,   1.517744,       -1.810579,      0.608393]]\n",
    "\n",
    "# 221\n",
    "bkj_221r=[[1.0,         -2.918987,      2.866252,       -0.944554],\n",
    "          [-1.850299,   7.321955,       -8.783456,      3.292966],\n",
    "          [0.944088,    -5.584876,      7.675096,       -3.039132],\n",
    "          [-0.088458,   1.198758,       -1.973222,      0.838109]]\n",
    "\n",
    "ckj_221r=[[1.0,         -2.941138,      2.907859,       -0.964407],\n",
    "          [-2.250169,   8.425183,       -9.852886,      3.660289],\n",
    "          [1.611393,    -7.869432,      9.999751,       -3.737205],\n",
    "          [-0.359285,   2.392321,       -3.154979,      1.129776]]\n",
    "\n",
    "bkj_221i=[[1.0,         -3.074983,      3.182195,       -1.105297],\n",
    "          [0.366066,    4.296285,       -9.700146,      5.016955],\n",
    "          [-3.290350,   -0.844265,      9.999863,       -5.818349],\n",
    "          [1.927196,    -0.401520,      -3.537667,      2.077991]]\n",
    "\n",
    "ckj_221i=[[1.0,         -3.079686,      3.191889,       -1.110140],\n",
    "          [0.388928,    4.159242,       -9.474149,      4.904881],\n",
    "          [-3.119527,   -0.914668,      9.767356,       -5.690517],\n",
    "          [1.746957,    -0.240680,      -3.505359,     2.049254]]"
   ]
  },
  {
   "cell_type": "code",
   "execution_count": null,
   "id": "e43538d3",
   "metadata": {},
   "outputs": [],
   "source": [
    "N=20\n",
    "r=np.linspace(0,1,N+1)\n",
    "\n",
    "d_phi_list=np.zeros(len(r))\n",
    "n_phi_list=np.zeros(len(r))\n",
    "\n",
    "for i in range(len(r)):\n",
    "    if(i==0):\n",
    "        d_phi_list[i]=0\n",
    "        n_phi_list[i]=1\n",
    "    else:\n",
    "        dphi=1/r[i]/N\n",
    "        Nphi=np.pi/2/dphi\n",
    "        n_phi_list[i]=math.ceil(Nphi)\n",
    "        d_phi_list[i]=np.pi/2/n_phi_list[i]\n",
    "\n",
    "Nxy=np.sum(n_phi_list)\n",
    "Q=np.zeros(Nxy)\n",
    "af=np.zeros(Nxy)"
   ]
  },
  {
   "cell_type": "code",
   "execution_count": 17,
   "id": "ecd18700",
   "metadata": {},
   "outputs": [
    {
     "data": {
      "text/plain": [
       "(0.5994432884374902-0.09270304794494749j)"
      ]
     },
     "execution_count": 17,
     "metadata": {},
     "output_type": "execute_result"
    }
   ],
   "source": [
    "qnm.modes_cache(s=-2,l=3,m=3,n=0)(a=0)[0]"
   ]
  },
  {
   "cell_type": "code",
   "execution_count": null,
   "id": "7982ed5c",
   "metadata": {},
   "outputs": [],
   "source": []
  }
 ],
 "metadata": {
  "kernelspec": {
   "display_name": "linux_QNM_env",
   "language": "python",
   "name": "python3"
  },
  "language_info": {
   "codemirror_mode": {
    "name": "ipython",
    "version": 3
   },
   "file_extension": ".py",
   "mimetype": "text/x-python",
   "name": "python",
   "nbconvert_exporter": "python",
   "pygments_lexer": "ipython3",
   "version": "3.9.19"
  }
 },
 "nbformat": 4,
 "nbformat_minor": 5
}
