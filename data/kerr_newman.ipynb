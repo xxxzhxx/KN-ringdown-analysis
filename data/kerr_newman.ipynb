{
 "cells": [
  {
   "cell_type": "code",
   "execution_count": 29,
   "metadata": {},
   "outputs": [
    {
     "data": {
      "image/png": "[encoded data removed]",
      "text/plain": [
       "<Figure size 640x480 with 1 Axes>"
      ]
     },
     "metadata": {},
     "output_type": "display_data"
    }
   ],
   "source": [
    "import numpy as np\n",
    "import scipy\n",
    "from scipy import stats\n",
    "import My_Fitting\n",
    "import qnm\n",
    "from kuibit import simdir as sd\n",
    "import matplotlib.pyplot as plt\n",
    "import matplotlib.ticker as ticker\n",
    "from matplotlib.colors import LogNorm\n",
    "import pickle\n",
    "\n",
    "plt.rcParams[\"xtick.labelsize\"] = 25\n",
    "plt.rcParams[\"ytick.labelsize\"] = 25\n",
    "plt.rcParams[\"xtick.direction\"] = \"in\"\n",
    "plt.rcParams[\"ytick.direction\"] = \"in\"\n",
    "plt.rcParams[\"xtick.major.size\"] = 8\n",
    "plt.rcParams[\"ytick.major.size\"] = 8\n",
    "plt.rcParams[\"xtick.minor.size\"] = 4\n",
    "plt.rcParams[\"ytick.minor.size\"] = 4\n",
    "plt.rcParams[\"xtick.top\"] = True\n",
    "plt.rcParams[\"ytick.right\"] = True\n",
    "plt.rcParams[\"axes.labelpad\"] = 8\n",
    "plt.rcParams[\"figure.constrained_layout.h_pad\"] = 0\n",
    "plt.rcParams[\"text.usetex\"] = True\n",
    "plt.rcParams[\"font.sans-serif\"] = [\"Times New Roman\"]\n",
    "plt.rcParams[\"mathtext.fontset\"] = \"stix\"\n",
    "plt.tick_params(axis=\"both\", which=\"minor\", labelsize=18)"
   ]
  },
  {
   "cell_type": "code",
   "execution_count": 42,
   "metadata": {},
   "outputs": [
    {
     "name": "stdout",
     "output_type": "stream",
     "text": [
      "initial guess:\n"
     ]
    },
    {
     "name": "stderr",
     "output_type": "stream",
     "text": [
      "100%|██████████| 5/5 [00:01<00:00,  3.72it/s]\n"
     ]
    },
    {
     "name": "stdout",
     "output_type": "stream",
     "text": [
      "initial guess index:  1\n",
      "min loss: 2.818299469225689e-11\n",
      "fitting for N_free =  4\n"
     ]
    },
    {
     "name": "stderr",
     "output_type": "stream",
     "text": [
      "100%|██████████| 501/501 [00:17<00:00, 28.01it/s]\n"
     ]
    },
    {
     "name": "stdout",
     "output_type": "stream",
     "text": [
      "initial guess:\n"
     ]
    },
    {
     "name": "stderr",
     "output_type": "stream",
     "text": [
      "100%|██████████| 5/5 [00:01<00:00,  4.91it/s]\n"
     ]
    },
    {
     "name": "stdout",
     "output_type": "stream",
     "text": [
      "initial guess index:  4\n",
      "min loss: 8.118578316479503e-11\n",
      "fitting for N_free =  4\n"
     ]
    },
    {
     "name": "stderr",
     "output_type": "stream",
     "text": [
      "100%|██████████| 501/501 [00:14<00:00, 35.12it/s]\n"
     ]
    },
    {
     "name": "stdout",
     "output_type": "stream",
     "text": [
      "initial guess:\n"
     ]
    },
    {
     "name": "stderr",
     "output_type": "stream",
     "text": [
      "100%|██████████| 5/5 [00:01<00:00,  4.04it/s]\n"
     ]
    },
    {
     "name": "stdout",
     "output_type": "stream",
     "text": [
      "initial guess index:  0\n",
      "min loss: 2.4768652799305278e-11\n",
      "fitting for N_free =  4\n"
     ]
    },
    {
     "name": "stderr",
     "output_type": "stream",
     "text": [
      "100%|██████████| 501/501 [00:13<00:00, 36.19it/s]\n"
     ]
    },
    {
     "name": "stdout",
     "output_type": "stream",
     "text": [
      "initial guess:\n"
     ]
    },
    {
     "name": "stderr",
     "output_type": "stream",
     "text": [
      "100%|██████████| 5/5 [00:00<00:00,  6.94it/s]\n"
     ]
    },
    {
     "name": "stdout",
     "output_type": "stream",
     "text": [
      "initial guess index:  2\n",
      "min loss: 2.7634182489231317e-11\n",
      "fitting for N_free =  4\n"
     ]
    },
    {
     "name": "stderr",
     "output_type": "stream",
     "text": [
      "100%|██████████| 501/501 [00:17<00:00, 28.78it/s]\n"
     ]
    },
    {
     "name": "stdout",
     "output_type": "stream",
     "text": [
      "initial guess:\n"
     ]
    },
    {
     "name": "stderr",
     "output_type": "stream",
     "text": [
      "100%|██████████| 5/5 [00:00<00:00,  6.22it/s]\n"
     ]
    },
    {
     "name": "stdout",
     "output_type": "stream",
     "text": [
      "initial guess index:  4\n",
      "min loss: 2.3086373764619296e-11\n",
      "fitting for N_free =  4\n"
     ]
    },
    {
     "name": "stderr",
     "output_type": "stream",
     "text": [
      "100%|██████████| 501/501 [00:13<00:00, 36.38it/s]\n"
     ]
    },
    {
     "name": "stdout",
     "output_type": "stream",
     "text": [
      "initial guess:\n"
     ]
    },
    {
     "name": "stderr",
     "output_type": "stream",
     "text": [
      "100%|██████████| 5/5 [00:00<00:00,  8.91it/s]\n"
     ]
    },
    {
     "name": "stdout",
     "output_type": "stream",
     "text": [
      "initial guess index:  2\n",
      "min loss: 2.2184890435297778e-11\n",
      "fitting for N_free =  4\n"
     ]
    },
    {
     "name": "stderr",
     "output_type": "stream",
     "text": [
      "100%|██████████| 501/501 [00:17<00:00, 28.90it/s]\n"
     ]
    },
    {
     "name": "stdout",
     "output_type": "stream",
     "text": [
      "initial guess:\n"
     ]
    },
    {
     "name": "stderr",
     "output_type": "stream",
     "text": [
      "100%|██████████| 5/5 [00:01<00:00,  3.77it/s]\n"
     ]
    },
    {
     "name": "stdout",
     "output_type": "stream",
     "text": [
      "initial guess index:  3\n",
      "min loss: 2.722628500932594e-11\n",
      "fitting for N_free =  4\n"
     ]
    },
    {
     "name": "stderr",
     "output_type": "stream",
     "text": [
      "100%|██████████| 501/501 [00:13<00:00, 36.05it/s]\n"
     ]
    },
    {
     "name": "stdout",
     "output_type": "stream",
     "text": [
      "initial guess:\n"
     ]
    },
    {
     "name": "stderr",
     "output_type": "stream",
     "text": [
      "100%|██████████| 5/5 [00:01<00:00,  2.96it/s]\n"
     ]
    },
    {
     "name": "stdout",
     "output_type": "stream",
     "text": [
      "initial guess index:  3\n",
      "min loss: 2.9915434015637745e-11\n",
      "fitting for N_free =  4\n"
     ]
    },
    {
     "name": "stderr",
     "output_type": "stream",
     "text": [
      "100%|██████████| 501/501 [00:16<00:00, 29.47it/s]\n"
     ]
    }
   ],
   "source": [
    "name_list=[\"o5\",\"o10\",\"o20\",\"o30\",\"s5\",\"s10\",\"s20\",\"s30\"]\n",
    "\n",
    "np.random.seed(42)\n",
    "for i_name in range(len(name_list)):\n",
    "    with sd.SimDir(\"/home/yuntian/vscode_codes/QNM_compare/Kerr_Newman/\"+name_list[i_name],\\\n",
    "                   pickle_file=\"/home/yuntian/vscode_codes/QNM_compare/Kerr_Newman/\"+name_list[i_name]+\".pickle\") as sim:\n",
    "        pass\n",
    "\n",
    "    timeseries=sim.ts\n",
    "    m1=timeseries.scalar[\"qlm_mass[0]\"]\n",
    "    m2=timeseries.scalar[\"qlm_mass[1]\"]\n",
    "    mt=timeseries.scalar[\"qlm_mass[2]\"]\n",
    "    s1=timeseries.scalar[\"qlm_spin[0]\"]\n",
    "    s2=timeseries.scalar[\"qlm_spin[1]\"]\n",
    "    s=timeseries.scalar[\"qlm_spin[2]\"]\n",
    "    q1=timeseries.scalar[\"qlm_charge[0]\"]\n",
    "    q2=timeseries.scalar[\"qlm_charge[1]\"]\n",
    "    q=timeseries.scalar[\"qlm_charge[2]\"]\n",
    "\n",
    "    psi4=sim.multipoles[\"psi4\"][110.69]\n",
    "    psi4_22=psi4[2,2]\n",
    "\n",
    "    t=np.zeros(len(psi4_22.t))\n",
    "    psi4_22_r=np.zeros(len(psi4_22.t))\n",
    "    psi4_22_i=np.zeros(len(psi4_22.t))\n",
    "    psi4_22_abs=np.zeros(len(psi4_22.t))\n",
    "\n",
    "    for i in range(len(psi4_22.t)):\n",
    "        t[i]=psi4_22.t[i]\n",
    "        psi4_22_r[i]=psi4_22(psi4_22.t[i]).real\n",
    "        psi4_22_i[i]=psi4_22(psi4_22.t[i]).imag\n",
    "        psi4_22_abs[i]=(psi4_22_r[i]**2+psi4_22_i[i]**2)**(1/2)\n",
    "\n",
    "    t_peak=t[np.argmax(psi4_22_abs)]\n",
    "    index1=np.argmin(np.abs(t-t_peak))\n",
    "    index2=np.argmin(np.abs(t-t_peak-100))+1\n",
    "    t0_arr=np.linspace(0, 50, num = 501)\n",
    "\n",
    "    params_fit=My_Fitting.fit_modes(t[index1:index2]-t_peak,psi4_22_r[index1:index2],psi4_22_i[index1:index2],t0_arr,\\\n",
    "                                N_guess=5,N_free=4,N_fix=0,omega_fix=[],pert=0,N_pert_guess=1,max_nfev=200000)\n",
    "\n",
    "    with open(\"data_kerr_newman/\"+name_list[i_name]+\"_\"+\"220\"+f\"_N_free_{4}_pert_0.pkl\",'wb') as file:\n",
    "        pickle.dump(params_fit,file)"
   ]
  },
  {
   "cell_type": "code",
   "execution_count": 4,
   "metadata": {},
   "outputs": [],
   "source": [
    "#稳定性设置\n",
    "beta_r=1\n",
    "beta_i=1\n",
    "beta_A=1\n",
    "beta_phi=1.5 \n",
    "\n",
    "A_tol=1e-3\n",
    "r_tol=0.05 \n",
    "i_tol=0.05\n",
    "\n",
    "p_stable=0.95\n",
    "\n",
    "e_stable=0.2 \n",
    "\n",
    "#稳定性计算\n",
    "def stable_cal(k,N_fix,params_fit_cut):\n",
    "    A_list=np.zeros(len(params_fit_cut))\n",
    "    phi_list_1=np.zeros(len(params_fit_cut))\n",
    "    phi_list_2=np.zeros(len(params_fit_cut))\n",
    "    r_list=np.zeros(len(params_fit_cut))\n",
    "    i_list=np.zeros(len(params_fit_cut))\n",
    "\n",
    "    for i in range(len(params_fit_cut)):\n",
    "        A_list[i]=params_fit_cut[i][2*N_fix+4*k]\n",
    "        phi_list_1[i]=params_fit_cut[i][2*N_fix+4*k+1]\n",
    "        phi_list_2[i]=params_fit_cut[i][2*N_fix+4*k+1]+np.pi\n",
    "        r_list[i]=params_fit_cut[i][2*N_fix+4*k+2]\n",
    "        i_list[i]=params_fit_cut[i][2*N_fix+4*k+3]\n",
    "\n",
    "        if A_list[i]<0:\n",
    "            A_list[i]*=-1\n",
    "            phi_list_1[i]+=np.pi\n",
    "            phi_list_2[i]+=np.pi\n",
    "\n",
    "        phi_list_1[i]%=2*np.pi\n",
    "        phi_list_2[i]%=2*np.pi\n",
    "    \n",
    "    d_A=np.percentile(A_list,100-100*(1-p_stable)/2)-np.percentile(A_list,100*(1-p_stable)/2)\n",
    "    d_phi_1=np.percentile(phi_list_1,100-100*(1-p_stable)/2)-np.percentile(phi_list_1,100*(1-p_stable)/2)\n",
    "    d_phi_2=np.percentile(phi_list_2,100-100*(1-p_stable)/2)-np.percentile(phi_list_2,100*(1-p_stable)/2)\n",
    "    d_phi=min(np.abs(d_phi_1),np.abs(d_phi_2))\n",
    "    d_r=np.percentile(r_list,100-100*(1-p_stable)/2)-np.percentile(r_list,100*(1-p_stable)/2)\n",
    "    d_i=np.percentile(i_list,100-100*(1-p_stable)/2)-np.percentile(i_list,100*(1-p_stable)/2)\n",
    "\n",
    "    A_k=max(A_tol,np.abs(np.percentile(A_list,50)))\n",
    "    phi_k=2*np.pi\n",
    "    r_k=max(r_tol,np.abs(np.percentile(r_list,50)))\n",
    "    i_k=max(i_tol,np.abs(np.percentile(i_list,50)))\n",
    "\n",
    "    delta_A=beta_A*d_A/A_k\n",
    "    delta_phi=beta_phi*d_phi/phi_k\n",
    "    delta_r=beta_r*d_r/r_k\n",
    "    delta_i=beta_i*d_i/i_k\n",
    "\n",
    "    delta_k=(delta_A**2+delta_phi**2+delta_r**2+delta_i**2)**(1/2)\n",
    "\n",
    "    if(np.abs(d_phi_1)<np.abs(d_phi_2)):\n",
    "        phi_list=phi_list_1\n",
    "    else:\n",
    "        phi_list=phi_list_2-np.pi\n",
    "\n",
    "    return [delta_k,np.percentile(r_list,50),np.percentile(r_list,100-100*(1-p_stable)/2),np.percentile(r_list,100*(1-p_stable)/2),\\\n",
    "                    np.percentile(i_list,50),np.percentile(i_list,100-100*(1-p_stable)/2),np.percentile(i_list,100*(1-p_stable)/2),\\\n",
    "                    np.percentile(A_list,50),np.percentile(A_list,100-100*(1-p_stable)/2),np.percentile(A_list,100*(1-p_stable)/2),\\\n",
    "                np.percentile(phi_list,50),np.percentile(phi_list,100-100*(1-p_stable)/2),np.percentile(phi_list,100*(1-p_stable)/2)]"
   ]
  },
  {
   "cell_type": "code",
   "execution_count": 43,
   "metadata": {},
   "outputs": [
    {
     "name": "stdout",
     "output_type": "stream",
     "text": [
      "0.952833505851356 0.6803401672459364 0.010251868839038999\n",
      "0.952868693574983 0.6794541988783948 0.05125739804848134\n",
      "0.953006273171522 0.6766740802439305 0.102500861135163\n",
      "0.953488398133397 0.6652260442352811 0.20490605229519546\n",
      "0.95436711276988 0.6459905560751606 0.30708216824199364\n",
      "0.952617385076973 0.6805751617824812 0.00566648914416474\n",
      "0.951971246477507 0.6811801359422343 0.011340952592949552\n",
      "0.949429285811496 0.6832780965051314 0.022742779726172474\n",
      "0.945111704676538 0.6870465938103325 0.03426322976267843\n",
      "0.952781120524016 0.6801857318548776 0.028463954324382215\n",
      "0.952652729927978 0.6795603017223052 0.056935468625662476\n",
      "0.952089503471085 0.6770594178620906 0.11393950759403322\n",
      "0.951181351566426 0.6729401945880699 0.17107283549533647\n",
      "[[ 0.00000000e+00  5.49904104e-01  5.49904104e-01  5.49904104e-01\n",
      "  -8.58831158e-02 -8.58831158e-02 -8.58831158e-02  1.24061070e-03\n",
      "   1.24061070e-03  1.24061070e-03  2.95917184e+00  2.95917184e+00\n",
      "   2.95917184e+00]\n",
      " [ 2.93923204e-02  5.50251492e-01  5.50744247e-01  5.49480544e-01\n",
      "  -8.61300181e-02 -8.61300181e-02 -8.64724448e-02  1.27789439e-03\n",
      "   1.30749692e-03  1.27789439e-03  3.34963689e+00  3.39318075e+00\n",
      "   3.31988206e+00]\n",
      " [ 1.03007231e-02  5.51018877e-01  5.51333991e-01  5.51018877e-01\n",
      "  -8.38239330e-02 -8.37885460e-02 -8.38969234e-02  1.10942088e-03\n",
      "   1.11322785e-03  1.10397456e-03 -1.45113287e+00 -1.45113287e+00\n",
      "  -1.47575059e+00]\n",
      " [ 2.66187749e-02  5.50332843e-01  5.50521795e-01  5.50156106e-01\n",
      "  -8.47237865e-02 -8.45177576e-02 -8.50925255e-02  1.11497789e-03\n",
      "   1.13277868e-03  1.10444649e-03 -1.51693588e+00 -1.50703105e+00\n",
      "  -1.52399394e+00]\n",
      " [ 2.76173240e-02  5.50597656e-01  5.50786130e-01  5.50251774e-01\n",
      "  -8.51165654e-02 -8.47831555e-02 -8.54167717e-02  1.14457042e-03\n",
      "   1.15885321e-03  1.12913944e-03  3.14171243e+00  3.15473863e+00\n",
      "   3.13089338e+00]\n",
      " [ 1.21462469e-02  5.49349390e-01  5.49609415e-01  5.49088067e-01\n",
      "  -8.52105412e-02 -8.50585889e-02 -8.53184138e-02  1.26612775e-03\n",
      "   1.27131220e-03  1.25784334e-03  1.72477600e+00  1.73497936e+00\n",
      "   1.71438623e+00]\n",
      " [ 7.09170996e-02  5.54918848e-01  5.55240045e-01  5.54910796e-01\n",
      "  -9.31210671e-02 -9.30159683e-02 -9.31593644e-02  7.14055828e-03\n",
      "   7.26056606e-03  6.75431693e-03 -3.69800957e-01 -3.69244589e-01\n",
      "  -3.69948665e-01]\n",
      " [ 7.52819484e-03  5.52796898e-01  5.52814230e-01  5.52749615e-01\n",
      "  -8.53411478e-02 -8.51878613e-02 -8.53411478e-02  1.26410796e-03\n",
      "   1.26410796e-03  1.25492159e-03  3.03861016e+00  3.04191764e+00\n",
      "   3.03861016e+00]\n",
      " [ 4.35893089e-03  5.58712109e-01  5.58730059e-01  5.58706773e-01\n",
      "  -8.55336006e-02 -8.54544291e-02 -8.55336006e-02  1.19193570e-03\n",
      "   1.19193570e-03  1.18686963e-03 -1.89517112e+00 -1.89402235e+00\n",
      "  -1.89518350e+00]\n",
      " [ 0.00000000e+00  5.50082455e-01  5.50082455e-01  5.50082455e-01\n",
      "  -8.54986746e-02 -8.54986746e-02 -8.54986746e-02  1.22641258e-03\n",
      "   1.22641258e-03  1.22641258e-03  2.79842743e+00  2.79842743e+00\n",
      "   2.79842743e+00]\n",
      " [ 1.10851270e-02  5.50410391e-01  5.50410391e-01  5.50351993e-01\n",
      "  -8.54263655e-02 -8.52454705e-02 -8.54263655e-02  1.23881262e-03\n",
      "   1.23881262e-03  1.22536862e-03  2.47294099e+00  2.47621730e+00\n",
      "   2.47294099e+00]\n",
      " [ 1.10833216e-02  5.51204960e-01  5.51436511e-01  5.51010317e-01\n",
      "  -8.50534203e-02 -8.49720431e-02 -8.51530859e-02  1.21368796e-03\n",
      "   1.21958349e-03  1.20798086e-03  1.37058058e+00  1.38071412e+00\n",
      "   1.35922381e+00]\n",
      " [ 1.59740625e-02  5.52588253e-01  5.52716006e-01  5.52512054e-01\n",
      "  -8.58003364e-02 -8.56511082e-02 -8.59373474e-02  1.26579962e-03\n",
      "   1.27570352e-03  1.25622382e-03  5.78526498e+00  5.78873297e+00\n",
      "   5.77759042e+00]]\n"
     ]
    }
   ],
   "source": [
    "e_live=0.1\n",
    "N_tau=200\n",
    "e_sta=0.2\n",
    "N_free=4\n",
    "N_fix=0\n",
    "l=2\n",
    "m=2\n",
    "name_list=[\"1\",\"5\",\"10\",\"20\",\"30\",\"o5\",\"o10\",\"o20\",\"o30\",\"s5\",\"s10\",\"s20\",\"s30\"]\n",
    "\n",
    "mode_record=np.zeros([len(name_list),1+3*4])\n",
    "for i_name in range(len(name_list)):\n",
    "    with open(\"data_kerr_newman/\"+name_list[i_name]+\"_\"+\"220\"+f\"_N_free_{4}_pert_0.pkl\",'rb') as file:\n",
    "        params_fit=pickle.load(file)\n",
    "\n",
    "    living_time_list=np.zeros(N_free)\n",
    "\n",
    "    with sd.SimDir(\"/home/yuntian/vscode_codes/QNM_compare/Kerr_Newman/\"+name_list[i_name],\\\n",
    "                   pickle_file=\"/home/yuntian/vscode_codes/QNM_compare/Kerr_Newman/\"+name_list[i_name]+\".pickle\") as sim:\n",
    "        pass\n",
    "    timeseries=sim.ts\n",
    "    m1=timeseries.scalar[\"qlm_mass[0]\"]\n",
    "    m2=timeseries.scalar[\"qlm_mass[1]\"]\n",
    "    mt=timeseries.scalar[\"qlm_mass[2]\"]\n",
    "    s1=timeseries.scalar[\"qlm_spin[0]\"]\n",
    "    s2=timeseries.scalar[\"qlm_spin[1]\"]\n",
    "    s=timeseries.scalar[\"qlm_spin[2]\"]\n",
    "    q1=timeseries.scalar[\"qlm_charge[0]\"]\n",
    "    q2=timeseries.scalar[\"qlm_charge[1]\"]\n",
    "    q=timeseries.scalar[\"qlm_charge[2]\"]\n",
    "    psi4=sim.multipoles[\"psi4\"][110.69]\n",
    "    psi4_22=psi4[2,2]\n",
    "\n",
    "    t=np.zeros(len(psi4_22.t))\n",
    "    psi4_22_r=np.zeros(len(psi4_22.t))\n",
    "    psi4_22_i=np.zeros(len(psi4_22.t))\n",
    "    psi4_22_abs=np.zeros(len(psi4_22.t))\n",
    "\n",
    "    for i in range(len(psi4_22.t)):\n",
    "        t[i]=psi4_22.t[i]\n",
    "        psi4_22_r[i]=psi4_22(psi4_22.t[i]).real\n",
    "        psi4_22_i[i]=psi4_22(psi4_22.t[i]).imag\n",
    "        psi4_22_abs[i]=(psi4_22_r[i]**2+psi4_22_i[i]**2)**(1/2)\n",
    "\n",
    "    t_peak=t[np.argmax(psi4_22_abs)]\n",
    "    index1=np.argmin(np.abs(t-t_peak))\n",
    "    index2=np.argmin(np.abs(t-t_peak-100))+1\n",
    "    t0_arr=np.linspace(0, 50, num = 501)\n",
    "\n",
    "    M=1\n",
    "    if(t_peak+100<t[-1]):\n",
    "        M_f=mt(t_peak+100)\n",
    "        a_f=s(t_peak+100)/M_f**2\n",
    "        q_f=q(t_peak+100)/M_f \n",
    "    else:\n",
    "        print(\"for \"+name_list[i_name]+\", t_peak = \",t_peak, \"t_max = \",t[-1])\n",
    "        M_f=mt(t[index2-1])\n",
    "        a_f=s(t[index2-1])/M_f**2\n",
    "        q_f=q(t[index2-1])/M_f \n",
    "    \n",
    "    if(np.isnan(M_f) or np.isnan(a_f) or np.isnan(q_f)):\n",
    "        print(\"for \"+name_list[i_name]+\"t_peak+100 gives nan\")\n",
    "        M_f=mt(t[index2-1])\n",
    "        a_f=s(t[index2-1])/M_f**2\n",
    "        q_f=q(t[index2-1])/M_f \n",
    "\n",
    "    print(M_f,a_f,q_f)\n",
    "\n",
    "\n",
    "    omega_GR_0=qnm.modes_cache(s=-2,l=l,m=m,n=0)(a=a_f)[0]/M_f*M\n",
    "\n",
    "    for j in range(N_free):\n",
    "        for k in range(len(t0_arr)):\n",
    "            if(np.abs((params_fit[k][2*N_fix+4*j+2]-omega_GR_0.real)/(omega_GR_0.real))<e_live and np.abs((params_fit[k][2*N_fix+4*j+3]-omega_GR_0.imag)/(omega_GR_0.imag))<e_live):\n",
    "                living_time_list[j]+=1\n",
    "    \n",
    "    find_mode=0\n",
    "    for j in range(len(t0_arr)-N_tau+1):\n",
    "        res=stable_cal(np.argmax(living_time_list),N_fix,params_fit[j:j+N_tau+1])\n",
    "        # if(np.abs((res[1]-omega_GR_0.real)/omega_GR_0.real)<e_sta and np.abs((res[4]-omega_GR_0.imag)/omega_GR_0.imag)<e_sta):\n",
    "        if(1):\n",
    "            if(find_mode==0):\n",
    "                for i_rec in range(len(mode_record[0,:])):\n",
    "                    mode_record[i_name,i_rec]=res[i_rec]\n",
    "                find_mode=1\n",
    "            else:\n",
    "                if(res[0]<mode_record[i_name,0]):\n",
    "                    for i_rec in range(len(mode_record[0,:])):\n",
    "                        mode_record[i_name,i_rec]=res[i_rec]\n",
    "print(mode_record)"
   ]
  },
  {
   "cell_type": "code",
   "execution_count": 15,
   "metadata": {},
   "outputs": [],
   "source": [
    "# 来定义220模的拟合\n",
    "bkj_220r=[[1.0,       0.537583,   -2.990402,  1.503421],\n",
    "     [-1.899567, -2.128633,  6.626680,   -2.903790],\n",
    "     [1.015454,  2.147094,   -4.672847,  1.891731],\n",
    "     [-0.111430, -0.581706,  1.021061,   -0.414517]]\n",
    "\n",
    "ckj_220r=[[1.0,          0.548651,   -3.141145,  1.636377],\n",
    "     [-2.238461,    -2.291933,  7.695570,   -3.458474],\n",
    "     [1.581677,     2.662938,   -6.256090,  2.494264],\n",
    "     [-0.341455,    -0.930069,  1.688288,   -0.612643]]\n",
    "\n",
    "bkj_220i=[[1.0,          -2.721789,     2.472860,      -0.750015],\n",
    "          [-2.533958,    7.181110,      -6.870324,     2.214689],\n",
    "          [2.102750,     -6.317887,     6.206452,      -1.980749],\n",
    "          [-0.568636,    1.857404,      -1.820547,     0.554722]]\n",
    "\n",
    "ckj_220i=[[1.0,          -2.732346,     2.495049,      -0.761581],\n",
    "          [-2.498341,    7.089542,      -6.781334,     2.181880],\n",
    "          [2.056918,     -6.149334,     6.010021,      -1.909275],\n",
    "          [-0.557557,    1.786783,      -1.734461,     0.524997]]\n",
    "\n",
    "# 330\n",
    "bkj_330r=[[1.0,         -0.311963,      -1.457057,      0.825692],\n",
    "          [-1.928277,   -0.026433,      3.139427,       -1.484557],\n",
    "          [1.044039,    0.545708,       -2.188569,      0.940019],\n",
    "          [-0.112303,   -0.226402,      0.482482,       -0.204299]]\n",
    "\n",
    "ckj_330r=[[1.0,         -0.299153,      -1.591595,      0.938987],\n",
    "          [-2.265230,   0.058508,       3.772084,       -1.852247],\n",
    "          [1.624332,    0.533096,       -3.007197,      1.285026],\n",
    "          [-0.357651,   -0.300599,      0.810387,       -0.314715]]\n",
    "\n",
    "bkj_330i=[[1.0,         -2.813977,      2.666759,       -0.850618],\n",
    "          [-2.163575,   6.934304,       -7.425335,      2.640936],\n",
    "          [1.405496,    -5.678573,      6.621826,       -2.345713],\n",
    "          [-0.241561,   1.555843,       -1.890365,      0.637480]]\n",
    "\n",
    "ckj_330i=[[1.0,         -2.820763,      2.680557,       -0.857462],\n",
    "          [-2.130446,   6.825101,       -7.291058,      2.583282],\n",
    "          [1.394144,    -5.533669,      6.393699,       -2.254239],\n",
    "          [-0.261229,   1.517744,       -1.810579,      0.608393]]\n",
    "\n",
    "# 221\n",
    "bkj_221r=[[1.0,         -2.918987,      2.866252,       -0.944554],\n",
    "          [-1.850299,   7.321955,       -8.783456,      3.292966],\n",
    "          [0.944088,    -5.584876,      7.675096,       -3.039132],\n",
    "          [-0.088458,   1.198758,       -1.973222,      0.838109]]\n",
    "\n",
    "ckj_221r=[[1.0,         -2.941138,      2.907859,       -0.964407],\n",
    "          [-2.250169,   8.425183,       -9.852886,      3.660289],\n",
    "          [1.611393,    -7.869432,      9.999751,       -3.737205],\n",
    "          [-0.359285,   2.392321,       -3.154979,      1.129776]]\n",
    "\n",
    "bkj_221i=[[1.0,         -3.074983,      3.182195,       -1.105297],\n",
    "          [0.366066,    4.296285,       -9.700146,      5.016955],\n",
    "          [-3.290350,   -0.844265,      9.999863,       -5.818349],\n",
    "          [1.927196,    -0.401520,      -3.537667,      2.077991]]\n",
    "\n",
    "ckj_221i=[[1.0,         -3.079686,      3.191889,       -1.110140],\n",
    "          [0.388928,    4.159242,       -9.474149,      4.904881],\n",
    "          [-3.119527,   -0.914668,      9.767356,       -5.690517],\n",
    "          [1.746957,    -0.240680,      -3.505359,     2.049254]]"
   ]
  },
  {
   "cell_type": "code",
   "execution_count": 44,
   "metadata": {},
   "outputs": [
    {
     "name": "stdout",
     "output_type": "stream",
     "text": [
      "-0.00010743254137646208 -5.0367670646145335e-05\n",
      "0.00020998374234948436 0.00038857256631752435\n",
      "0.000812747611946163 0.0018452379868127977\n",
      "-0.0003963691239150524 0.007532528941493699\n",
      "-0.0008278698409452945 0.016577486664000607\n",
      "-0.0008830540550431865 -5.754134377844444e-05\n",
      "0.004037642215737769 -4.871073079104615e-05\n",
      "-0.0005474660583995039 9.197992624554452e-06\n",
      "0.0010310416765973995 0.00012444422367097197\n",
      "-3.581075280534307e-06 6.171780346342359e-05\n",
      "8.436414676749049e-05 0.0005019850827903127\n",
      "-0.0001660220512851307 0.002314429439237431\n",
      "-0.0005419945578944985 0.005333314405534417\n"
     ]
    },
    {
     "data": {
      "text/plain": [
       "Text(0, 0.5, '$\\\\chi_f$')"
      ]
     },
     "execution_count": 44,
     "metadata": {},
     "output_type": "execute_result"
    },
    {
     "data": {
      "image/png": "[encoded data removed]",
      "text/plain": [
       "<Figure size 1200x800 with 2 Axes>"
      ]
     },
     "metadata": {},
     "output_type": "display_data"
    }
   ],
   "source": [
    "name_list=[\"1\",\"5\",\"10\",\"20\",\"30\",\"o5\",\"o10\",\"o20\",\"o30\",\"s5\",\"s10\",\"s20\",\"s30\"]\n",
    "q_f_list=np.zeros(len(name_list))\n",
    "a_f_list=np.zeros(len(name_list))\n",
    "z=np.zeros(len(name_list))\n",
    "sizes=np.zeros(len(name_list))\n",
    "\n",
    "for i_name in range(len(name_list)):\n",
    "    with sd.SimDir(\"/home/yuntian/vscode_codes/QNM_compare/Kerr_Newman/\"+name_list[i_name],\\\n",
    "                   pickle_file=\"/home/yuntian/vscode_codes/QNM_compare/Kerr_Newman/\"+name_list[i_name]+\".pickle\") as sim:\n",
    "        pass\n",
    "    timeseries=sim.ts\n",
    "    m1=timeseries.scalar[\"qlm_mass[0]\"]\n",
    "    m2=timeseries.scalar[\"qlm_mass[1]\"]\n",
    "    mt=timeseries.scalar[\"qlm_mass[2]\"]\n",
    "    s1=timeseries.scalar[\"qlm_spin[0]\"]\n",
    "    s2=timeseries.scalar[\"qlm_spin[1]\"]\n",
    "    s=timeseries.scalar[\"qlm_spin[2]\"]\n",
    "    q1=timeseries.scalar[\"qlm_charge[0]\"]\n",
    "    q2=timeseries.scalar[\"qlm_charge[1]\"]\n",
    "    q=timeseries.scalar[\"qlm_charge[2]\"]\n",
    "    psi4=sim.multipoles[\"psi4\"][110.69]\n",
    "    psi4_22=psi4[2,2]\n",
    "\n",
    "    t=np.zeros(len(psi4_22.t))\n",
    "    psi4_22_r=np.zeros(len(psi4_22.t))\n",
    "    psi4_22_i=np.zeros(len(psi4_22.t))\n",
    "    psi4_22_abs=np.zeros(len(psi4_22.t))\n",
    "\n",
    "    for i in range(len(psi4_22.t)):\n",
    "        t[i]=psi4_22.t[i]\n",
    "        psi4_22_r[i]=psi4_22(psi4_22.t[i]).real\n",
    "        psi4_22_i[i]=psi4_22(psi4_22.t[i]).imag\n",
    "        psi4_22_abs[i]=(psi4_22_r[i]**2+psi4_22_i[i]**2)**(1/2)\n",
    "\n",
    "    t_peak=t[np.argmax(psi4_22_abs)]\n",
    "    index1=np.argmin(np.abs(t-t_peak))\n",
    "    index2=np.argmin(np.abs(t-t_peak-100))+1\n",
    "    t0_arr=np.linspace(0, 50, num = 501)\n",
    "\n",
    "    M=1\n",
    "    if(t_peak+100<t[-1]):\n",
    "        M_f=mt(t_peak+100)\n",
    "        a_f=s(t_peak+100)/M_f**2\n",
    "        q_f=q(t_peak+100)/M_f \n",
    "    else:\n",
    "        print(\"for \"+name_list[i_name]+\", t_peak = \",t_peak, \"t_max = \",t[-1])\n",
    "        M_f=mt(t[index2-1])\n",
    "        a_f=s(t[index2-1])/M_f**2\n",
    "        q_f=q(t[index2-1])/M_f \n",
    "    \n",
    "    if(np.isnan(M_f) or np.isnan(a_f) or np.isnan(q_f)):\n",
    "        print(\"for \"+name_list[i_name]+\"t_peak+100 gives nan\")\n",
    "        M_f=mt(t[index2-1])\n",
    "        a_f=s(t[index2-1])/M_f**2\n",
    "        q_f=q(t[index2-1])/M_f \n",
    "\n",
    "    q_f_list[i_name]=q_f\n",
    "    a_f_list[i_name]=a_f\n",
    "    sizes[i_name]=100\n",
    "    omega_GR_r=(qnm.modes_cache(s=-2,l=2,m=2,n=0)(a=a_f)[0]/M_f*M).real\n",
    "\n",
    "    num=0\n",
    "    den=0\n",
    "    for k in range(4):\n",
    "        for j in range(4):\n",
    "            num+=bkj_220r[k][j]*a_f**k*q_f**j\n",
    "            den+=ckj_220r[k][j]*a_f**k*q_f**j\n",
    "\n",
    "    omega_KN_r=(qnm.modes_cache(s=-2,l=2,m=2,n=0)(a=0)[0].real*num/den)/M_f*M\n",
    "\n",
    "    omega_fit_r=mode_record[i_name,1]\n",
    "    z[i_name]=np.abs((omega_fit_r-omega_KN_r)/(omega_KN_r-omega_GR_r))\n",
    "    print(omega_fit_r-omega_KN_r,omega_KN_r-omega_GR_r)\n",
    "\n",
    "    # plt.plot(q_f,a_f,'.',markersize=20)\n",
    "\n",
    "fig, ax =plt.subplots(1,1,figsize=(12,8), sharex=True, sharey=True)\n",
    "sc1=[]\n",
    "sc1.append(ax.scatter(q_f_list,a_f_list,c=z,s=sizes,cmap='viridis',norm=LogNorm(vmin=0.01,vmax=1)))\n",
    "cbar1 = plt.colorbar(sc1[0], ax=ax, extend='max', shrink=0.95)\n",
    "cbar1.set_label(r\"$\\left|\\frac{\\omega_{r,{\\rm fit}}-\\omega_{r,{\\rm KN}}}{\\omega_{r,{\\rm KN}}-\\omega_{r,{\\rm GR}}}\\right|$\",fontsize=25)\n",
    "# sc1[0].set_clim(0,0.1)\n",
    "ax.set_xlabel(r\"$\\lambda_f$\",fontsize=25)\n",
    "ax.set_ylabel(r\"$\\chi_f$\",fontsize=25)"
   ]
  },
  {
   "cell_type": "code",
   "execution_count": 45,
   "metadata": {},
   "outputs": [
    {
     "name": "stdout",
     "output_type": "stream",
     "text": [
      "-0.00042161911684084064 7.391392685252018e-05\n",
      "-0.0006263845477601643 6.03305151750666e-05\n",
      "0.001735178029937362 9.105604421456859e-05\n",
      "0.0009500002508908839 0.00032419030873727384\n",
      "0.0006134796022295858 0.0007966420448064226\n",
      "0.00025857861843832375 7.7258220071999e-05\n",
      "-0.007610952428015932 7.254137993807641e-05\n",
      "0.00032986786091941667 6.448817425093456e-05\n",
      "0.00039524334552969165 5.8536213442136886e-05\n",
      "-1.6848653206322228e-05 6.382636245433337e-05\n",
      "9.222604439136639e-05 6.097858518649968e-05\n",
      "0.0005590179529906952 0.00010661285245229524\n",
      "-8.403466823166117e-05 0.0002286018899237685\n"
     ]
    },
    {
     "data": {
      "text/plain": [
       "Text(0, 0.5, '$\\\\chi_f$')"
      ]
     },
     "execution_count": 45,
     "metadata": {},
     "output_type": "execute_result"
    },
    {
     "data": {
      "image/png": "[encoded data removed]",
      "text/plain": [
       "<Figure size 1200x800 with 2 Axes>"
      ]
     },
     "metadata": {},
     "output_type": "display_data"
    }
   ],
   "source": [
    "name_list=[\"1\",\"5\",\"10\",\"20\",\"30\",\"o5\",\"o10\",\"o20\",\"o30\",\"s5\",\"s10\",\"s20\",\"s30\"]\n",
    "q_f_list=np.zeros(len(name_list))\n",
    "a_f_list=np.zeros(len(name_list))\n",
    "z=np.zeros(len(name_list))\n",
    "sizes=np.zeros(len(name_list))\n",
    "\n",
    "for i_name in range(len(name_list)):\n",
    "    with sd.SimDir(\"/home/yuntian/vscode_codes/QNM_compare/Kerr_Newman/\"+name_list[i_name],\\\n",
    "                   pickle_file=\"/home/yuntian/vscode_codes/QNM_compare/Kerr_Newman/\"+name_list[i_name]+\".pickle\") as sim:\n",
    "        pass\n",
    "    timeseries=sim.ts\n",
    "    m1=timeseries.scalar[\"qlm_mass[0]\"]\n",
    "    m2=timeseries.scalar[\"qlm_mass[1]\"]\n",
    "    mt=timeseries.scalar[\"qlm_mass[2]\"]\n",
    "    s1=timeseries.scalar[\"qlm_spin[0]\"]\n",
    "    s2=timeseries.scalar[\"qlm_spin[1]\"]\n",
    "    s=timeseries.scalar[\"qlm_spin[2]\"]\n",
    "    q1=timeseries.scalar[\"qlm_charge[0]\"]\n",
    "    q2=timeseries.scalar[\"qlm_charge[1]\"]\n",
    "    q=timeseries.scalar[\"qlm_charge[2]\"]\n",
    "    psi4=sim.multipoles[\"psi4\"][110.69]\n",
    "    psi4_22=psi4[2,2]\n",
    "\n",
    "    t=np.zeros(len(psi4_22.t))\n",
    "    psi4_22_r=np.zeros(len(psi4_22.t))\n",
    "    psi4_22_i=np.zeros(len(psi4_22.t))\n",
    "    psi4_22_abs=np.zeros(len(psi4_22.t))\n",
    "\n",
    "    for i in range(len(psi4_22.t)):\n",
    "        t[i]=psi4_22.t[i]\n",
    "        psi4_22_r[i]=psi4_22(psi4_22.t[i]).real\n",
    "        psi4_22_i[i]=psi4_22(psi4_22.t[i]).imag\n",
    "        psi4_22_abs[i]=(psi4_22_r[i]**2+psi4_22_i[i]**2)**(1/2)\n",
    "\n",
    "    t_peak=t[np.argmax(psi4_22_abs)]\n",
    "    index1=np.argmin(np.abs(t-t_peak))\n",
    "    index2=np.argmin(np.abs(t-t_peak-100))+1\n",
    "    t0_arr=np.linspace(0, 50, num = 501)\n",
    "\n",
    "    M=1\n",
    "    if(t_peak+100<t[-1]):\n",
    "        M_f=mt(t_peak+100)\n",
    "        a_f=s(t_peak+100)/M_f**2\n",
    "        q_f=q(t_peak+100)/M_f \n",
    "    else:\n",
    "        print(\"for \"+name_list[i_name]+\", t_peak = \",t_peak, \"t_max = \",t[-1])\n",
    "        M_f=mt(t[index2-1])\n",
    "        a_f=s(t[index2-1])/M_f**2\n",
    "        q_f=q(t[index2-1])/M_f \n",
    "    \n",
    "    if(np.isnan(M_f) or np.isnan(a_f) or np.isnan(q_f)):\n",
    "        print(\"for \"+name_list[i_name]+\"t_peak+100 gives nan\")\n",
    "        M_f=mt(t[index2-1])\n",
    "        a_f=s(t[index2-1])/M_f**2\n",
    "        q_f=q(t[index2-1])/M_f \n",
    "\n",
    "    q_f_list[i_name]=q_f\n",
    "    a_f_list[i_name]=a_f\n",
    "    sizes[i_name]=100\n",
    "    omega_GR_i=(qnm.modes_cache(s=-2,l=2,m=2,n=0)(a=a_f)[0]/M_f*M).imag\n",
    "\n",
    "    num=0\n",
    "    den=0\n",
    "    for k in range(4):\n",
    "        for j in range(4):\n",
    "            num+=bkj_220i[k][j]*a_f**k*q_f**j\n",
    "            den+=ckj_220i[k][j]*a_f**k*q_f**j\n",
    "\n",
    "    omega_KN_i=(qnm.modes_cache(s=-2,l=2,m=2,n=0)(a=0)[0].imag*num/den)/M_f*M\n",
    "\n",
    "    omega_fit_i=mode_record[i_name,4]\n",
    "    z[i_name]=np.abs((omega_fit_i-omega_KN_i)/(omega_KN_i-omega_GR_i))\n",
    "    print(omega_fit_i-omega_KN_i,omega_KN_i-omega_GR_i)\n",
    "\n",
    "    # plt.plot(q_f,a_f,'.',markersize=20)\n",
    "\n",
    "fig, ax =plt.subplots(1,1,figsize=(12,8), sharex=True, sharey=True)\n",
    "sc1=[]\n",
    "sc1.append(ax.scatter(q_f_list,a_f_list,c=z,s=sizes,cmap='viridis',norm=LogNorm(vmin=0.1,vmax=10)))\n",
    "cbar1 = plt.colorbar(sc1[0], ax=ax, extend='max', shrink=0.95)\n",
    "cbar1.set_label(r\"$\\left|\\frac{\\omega_{i,{\\rm fit}}-\\omega_{i,{\\rm KN}}}{\\omega_{i,{\\rm KN}}-\\omega_{i,{\\rm GR}}}\\right|$\",fontsize=25)\n",
    "# sc1[0].set_clim(0,0.1)\n",
    "ax.set_xlabel(r\"$\\lambda_f$\",fontsize=25)\n",
    "ax.set_ylabel(r\"$\\chi_f$\",fontsize=25)"
   ]
  },
  {
   "cell_type": "code",
   "execution_count": 46,
   "metadata": {},
   "outputs": [
    {
     "data": {
      "text/plain": [
       "Text(0, 0.5, '$\\\\chi_f$')"
      ]
     },
     "execution_count": 46,
     "metadata": {},
     "output_type": "execute_result"
    },
    {
     "data": {
      "image/png": "[encoded data removed]",
      "text/plain": [
       "<Figure size 1200x800 with 2 Axes>"
      ]
     },
     "metadata": {},
     "output_type": "display_data"
    }
   ],
   "source": [
    "name_list=[\"1\",\"5\",\"10\",\"20\",\"30\",\"o5\",\"o10\",\"o20\",\"o30\",\"s5\",\"s10\",\"s20\",\"s30\"]\n",
    "q_f_list=np.zeros(len(name_list))\n",
    "a_f_list=np.zeros(len(name_list))\n",
    "z=np.zeros(len(name_list))\n",
    "sizes=np.zeros(len(name_list))\n",
    "\n",
    "for i_name in range(len(name_list)):\n",
    "    with sd.SimDir(\"/home/yuntian/vscode_codes/QNM_compare/Kerr_Newman/\"+name_list[i_name],\\\n",
    "                   pickle_file=\"/home/yuntian/vscode_codes/QNM_compare/Kerr_Newman/\"+name_list[i_name]+\".pickle\") as sim:\n",
    "        pass\n",
    "    timeseries=sim.ts\n",
    "    m1=timeseries.scalar[\"qlm_mass[0]\"]\n",
    "    m2=timeseries.scalar[\"qlm_mass[1]\"]\n",
    "    mt=timeseries.scalar[\"qlm_mass[2]\"]\n",
    "    s1=timeseries.scalar[\"qlm_spin[0]\"]\n",
    "    s2=timeseries.scalar[\"qlm_spin[1]\"]\n",
    "    s=timeseries.scalar[\"qlm_spin[2]\"]\n",
    "    q1=timeseries.scalar[\"qlm_charge[0]\"]\n",
    "    q2=timeseries.scalar[\"qlm_charge[1]\"]\n",
    "    q=timeseries.scalar[\"qlm_charge[2]\"]\n",
    "    psi4=sim.multipoles[\"psi4\"][110.69]\n",
    "    psi4_22=psi4[2,2]\n",
    "\n",
    "    t=np.zeros(len(psi4_22.t))\n",
    "    psi4_22_r=np.zeros(len(psi4_22.t))\n",
    "    psi4_22_i=np.zeros(len(psi4_22.t))\n",
    "    psi4_22_abs=np.zeros(len(psi4_22.t))\n",
    "\n",
    "    for i in range(len(psi4_22.t)):\n",
    "        t[i]=psi4_22.t[i]\n",
    "        psi4_22_r[i]=psi4_22(psi4_22.t[i]).real\n",
    "        psi4_22_i[i]=psi4_22(psi4_22.t[i]).imag\n",
    "        psi4_22_abs[i]=(psi4_22_r[i]**2+psi4_22_i[i]**2)**(1/2)\n",
    "\n",
    "    t_peak=t[np.argmax(psi4_22_abs)]\n",
    "    index1=np.argmin(np.abs(t-t_peak))\n",
    "    index2=np.argmin(np.abs(t-t_peak-100))+1\n",
    "    t0_arr=np.linspace(0, 50, num = 501)\n",
    "\n",
    "    M=1\n",
    "    if(t_peak+100<t[-1]):\n",
    "        M_f=mt(t_peak+100)\n",
    "        a_f=s(t_peak+100)/M_f**2\n",
    "        q_f=q(t_peak+100)/M_f \n",
    "    else:\n",
    "        print(\"for \"+name_list[i_name]+\", t_peak = \",t_peak, \"t_max = \",t[-1])\n",
    "        M_f=mt(t[index2-1])\n",
    "        a_f=s(t[index2-1])/M_f**2\n",
    "        q_f=q(t[index2-1])/M_f \n",
    "    \n",
    "    if(np.isnan(M_f) or np.isnan(a_f) or np.isnan(q_f)):\n",
    "        print(\"for \"+name_list[i_name]+\"t_peak+100 gives nan\")\n",
    "        M_f=mt(t[index2-1])\n",
    "        a_f=s(t[index2-1])/M_f**2\n",
    "        q_f=q(t[index2-1])/M_f \n",
    "\n",
    "    q_f_list[i_name]=q_f\n",
    "    a_f_list[i_name]=a_f\n",
    "    sizes[i_name]=100\n",
    "    omega_GR_r=(qnm.modes_cache(s=-2,l=2,m=2,n=0)(a=a_f)[0]/M_f*M).real\n",
    "\n",
    "    num=0\n",
    "    den=0\n",
    "    for k in range(4):\n",
    "        for j in range(4):\n",
    "            num+=bkj_220r[k][j]*a_f**k*q_f**j\n",
    "            den+=ckj_220r[k][j]*a_f**k*q_f**j\n",
    "\n",
    "    omega_KN_r=(qnm.modes_cache(s=-2,l=2,m=2,n=0)(a=0)[0].real*num/den)/M_f*M\n",
    "\n",
    "    omega_fit_r=mode_record[i_name,1]\n",
    "    z[i_name]=np.abs((omega_fit_r-omega_KN_r)/(omega_KN_r))\n",
    "\n",
    "    # plt.plot(q_f,a_f,'.',markersize=20)\n",
    "\n",
    "fig, ax =plt.subplots(1,1,figsize=(12,8), sharex=True, sharey=True)\n",
    "sc1=[]\n",
    "sc1.append(ax.scatter(q_f_list,a_f_list,c=z,s=sizes,cmap='viridis',norm=LogNorm(vmin=0.0001,vmax=0.01)))\n",
    "cbar1 = plt.colorbar(sc1[0], ax=ax, extend='max', shrink=0.95)\n",
    "cbar1.set_label(r\"$\\left|\\frac{\\omega_{r,{\\rm fit}}-\\omega_{r,{\\rm KN}}}{\\omega_{r,{\\rm KN}}}\\right|$\",fontsize=25)\n",
    "# sc1[0].set_clim(0,0.1)\n",
    "ax.set_xlabel(r\"$\\lambda_f$\",fontsize=25)\n",
    "ax.set_ylabel(r\"$\\chi_f$\",fontsize=25)"
   ]
  },
  {
   "cell_type": "code",
   "execution_count": 47,
   "metadata": {},
   "outputs": [
    {
     "data": {
      "text/plain": [
       "Text(0, 0.5, '$\\\\chi_f$')"
      ]
     },
     "execution_count": 47,
     "metadata": {},
     "output_type": "execute_result"
    },
    {
     "data": {
      "image/png": "[encoded data removed]",
      "text/plain": [
       "<Figure size 1200x800 with 2 Axes>"
      ]
     },
     "metadata": {},
     "output_type": "display_data"
    }
   ],
   "source": [
    "name_list=[\"1\",\"5\",\"10\",\"20\",\"30\",\"o5\",\"o10\",\"o20\",\"o30\",\"s5\",\"s10\",\"s20\",\"s30\"]\n",
    "q_f_list=np.zeros(len(name_list))\n",
    "a_f_list=np.zeros(len(name_list))\n",
    "z=np.zeros(len(name_list))\n",
    "sizes=np.zeros(len(name_list))\n",
    "\n",
    "for i_name in range(len(name_list)):\n",
    "    with sd.SimDir(\"/home/yuntian/vscode_codes/QNM_compare/Kerr_Newman/\"+name_list[i_name],\\\n",
    "                   pickle_file=\"/home/yuntian/vscode_codes/QNM_compare/Kerr_Newman/\"+name_list[i_name]+\".pickle\") as sim:\n",
    "        pass\n",
    "    timeseries=sim.ts\n",
    "    m1=timeseries.scalar[\"qlm_mass[0]\"]\n",
    "    m2=timeseries.scalar[\"qlm_mass[1]\"]\n",
    "    mt=timeseries.scalar[\"qlm_mass[2]\"]\n",
    "    s1=timeseries.scalar[\"qlm_spin[0]\"]\n",
    "    s2=timeseries.scalar[\"qlm_spin[1]\"]\n",
    "    s=timeseries.scalar[\"qlm_spin[2]\"]\n",
    "    q1=timeseries.scalar[\"qlm_charge[0]\"]\n",
    "    q2=timeseries.scalar[\"qlm_charge[1]\"]\n",
    "    q=timeseries.scalar[\"qlm_charge[2]\"]\n",
    "    psi4=sim.multipoles[\"psi4\"][110.69]\n",
    "    psi4_22=psi4[2,2]\n",
    "\n",
    "    t=np.zeros(len(psi4_22.t))\n",
    "    psi4_22_r=np.zeros(len(psi4_22.t))\n",
    "    psi4_22_i=np.zeros(len(psi4_22.t))\n",
    "    psi4_22_abs=np.zeros(len(psi4_22.t))\n",
    "\n",
    "    for i in range(len(psi4_22.t)):\n",
    "        t[i]=psi4_22.t[i]\n",
    "        psi4_22_r[i]=psi4_22(psi4_22.t[i]).real\n",
    "        psi4_22_i[i]=psi4_22(psi4_22.t[i]).imag\n",
    "        psi4_22_abs[i]=(psi4_22_r[i]**2+psi4_22_i[i]**2)**(1/2)\n",
    "\n",
    "    t_peak=t[np.argmax(psi4_22_abs)]\n",
    "    index1=np.argmin(np.abs(t-t_peak))\n",
    "    index2=np.argmin(np.abs(t-t_peak-100))+1\n",
    "    t0_arr=np.linspace(0, 50, num = 501)\n",
    "\n",
    "    M=1\n",
    "    if(t_peak+100<t[-1]):\n",
    "        M_f=mt(t_peak+100)\n",
    "        a_f=s(t_peak+100)/M_f**2\n",
    "        q_f=q(t_peak+100)/M_f \n",
    "    else:\n",
    "        print(\"for \"+name_list[i_name]+\", t_peak = \",t_peak, \"t_max = \",t[-1])\n",
    "        M_f=mt(t[index2-1])\n",
    "        a_f=s(t[index2-1])/M_f**2\n",
    "        q_f=q(t[index2-1])/M_f \n",
    "    \n",
    "    if(np.isnan(M_f) or np.isnan(a_f) or np.isnan(q_f)):\n",
    "        print(\"for \"+name_list[i_name]+\"t_peak+100 gives nan\")\n",
    "        M_f=mt(t[index2-1])\n",
    "        a_f=s(t[index2-1])/M_f**2\n",
    "        q_f=q(t[index2-1])/M_f \n",
    "\n",
    "    q_f_list[i_name]=q_f\n",
    "    a_f_list[i_name]=a_f\n",
    "    sizes[i_name]=100\n",
    "\n",
    "    num=0\n",
    "    den=0\n",
    "    for k in range(4):\n",
    "        for j in range(4):\n",
    "            num+=bkj_220i[k][j]*a_f**k*q_f**j\n",
    "            den+=ckj_220i[k][j]*a_f**k*q_f**j\n",
    "\n",
    "    omega_KN_i=(qnm.modes_cache(s=-2,l=2,m=2,n=0)(a=0)[0].imag*num/den)/M_f*M\n",
    "\n",
    "    omega_fit_i=mode_record[i_name,4]\n",
    "    z[i_name]=np.abs((omega_fit_i-omega_KN_i)/(omega_KN_i))\n",
    "\n",
    "    # plt.plot(q_f,a_f,'.',markersize=20)\n",
    "\n",
    "fig, ax =plt.subplots(1,1,figsize=(12,8), sharex=True, sharey=True)\n",
    "sc1=[]\n",
    "sc1.append(ax.scatter(q_f_list,a_f_list,c=z,s=sizes,cmap='viridis',norm=LogNorm(vmin=0.001,vmax=0.1)))\n",
    "cbar1 = plt.colorbar(sc1[0], ax=ax, extend='max', shrink=0.95)\n",
    "cbar1.set_label(r\"$\\left|\\frac{\\omega_{i,{\\rm fit}}-\\omega_{i,{\\rm KN}}}{\\omega_{i,{\\rm KN}}}\\right|$\",fontsize=25)\n",
    "# sc1[0].set_clim(0,0.1)\n",
    "ax.set_xlabel(r\"$\\lambda_f$\",fontsize=25)\n",
    "ax.set_ylabel(r\"$\\chi_f$\",fontsize=25)"
   ]
  },
  {
   "cell_type": "code",
   "execution_count": null,
   "metadata": {},
   "outputs": [],
   "source": []
  }
 ],
 "metadata": {
  "kernelspec": {
   "display_name": "linux_QNM_env",
   "language": "python",
   "name": "python3"
  },
  "language_info": {
   "codemirror_mode": {
    "name": "ipython",
    "version": 3
   },
   "file_extension": ".py",
   "mimetype": "text/x-python",
   "name": "python",
   "nbconvert_exporter": "python",
   "pygments_lexer": "ipython3",
   "version": "3.9.19"
  }
 },
 "nbformat": 4,
 "nbformat_minor": 2
}
