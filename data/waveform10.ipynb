{
 "cells": [
  {
   "cell_type": "code",
   "execution_count": 1,
   "id": "af2b2671",
   "metadata": {},
   "outputs": [],
   "source": [
    "# 感觉可以试着直接10倍信噪比看个乐子先\n",
    "import numpy as np\n",
    "\n",
    "names=[\"0\",\"10\",\"20\",\"30\"]\n",
    "for i_name in range(len(names)):\n",
    "    data=np.genfromtxt(\"NR_data_\"+names[i_name]+\"/H-H1_GWOSC_4KHZ_R1-1126259447-32.txt\")\n",
    "\n",
    "    fo=open(f\"NR_data_\"+names[i_name]+\"/five/H-H1_GWOSC_4KHZ_R1-1126259447-32.txt\",\"w\")\n",
    "    for i in range(len(data)):\n",
    "        h=data[i]*5.0\n",
    "        fo.write(f\"{h:+.16e}\\n\")\n",
    "    fo.close()"
   ]
  },
  {
   "cell_type": "code",
   "execution_count": 2,
   "id": "8eb3169c",
   "metadata": {},
   "outputs": [
    {
     "data": {
      "text/plain": [
       "<function TextIOWrapper.close()>"
      ]
     },
     "execution_count": 2,
     "metadata": {},
     "output_type": "execute_result"
    }
   ],
   "source": [
    "# 考虑到改信号是要动先验的，有点迷\n",
    "# 我们也来试试改ASD\n",
    "import numpy as np\n",
    "\n",
    "data=np.genfromtxt(\"ASD_ET.txt\")\n",
    "fo=open(\"ASD_ET_4.txt\",\"w\")\n",
    "for i in range(len(data[:,0])):\n",
    "    psd=data[i,1]/4.0\n",
    "    fo.write(f\"{data[i,0]:+.16e} {psd:+.16e}\\n\")\n",
    "fo.close"
   ]
  },
  {
   "cell_type": "code",
   "execution_count": null,
   "id": "cbe72038",
   "metadata": {},
   "outputs": [],
   "source": []
  }
 ],
 "metadata": {
  "kernelspec": {
   "display_name": "linux_QNM_env",
   "language": "python",
   "name": "python3"
  },
  "language_info": {
   "codemirror_mode": {
    "name": "ipython",
    "version": 3
   },
   "file_extension": ".py",
   "mimetype": "text/x-python",
   "name": "python",
   "nbconvert_exporter": "python",
   "pygments_lexer": "ipython3",
   "version": "3.9.19"
  }
 },
 "nbformat": 4,
 "nbformat_minor": 5
}
